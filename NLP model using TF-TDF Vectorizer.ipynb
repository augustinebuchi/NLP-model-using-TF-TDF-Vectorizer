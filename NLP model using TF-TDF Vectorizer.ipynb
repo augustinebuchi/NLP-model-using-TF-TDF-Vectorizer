{
 "cells": [
  {
   "cell_type": "code",
   "execution_count": 1,
   "id": "b301dff3",
   "metadata": {},
   "outputs": [],
   "source": [
    "from sklearn.feature_extraction.text import TfidfVectorizer\n",
    "\n",
    "tex_t = [\n",
    "    \"Apple announces the iphone 14 pro max yesterday! I'm getting mine tomorrow! I hope you get yours too to flex with me. lol.\",\n",
    "    \"Mr Endee bought a vintage Tesla from Pastor Arman yesterday; he is flexing his ride in the square as we speak.  I think that's so good for him.\",\n",
    "    \"Google just announced their new pixel 6 just 5 minutes ago. My brother's already obsessed about it. I think he's gonna get one of em new ones tomorrow.\",\n",
    "    \"Bughati is showing off the latest model, the Aventador, and that's on monday, we should be there at the stage yeah? I don't know what y'll thinking about right now but I'm getting my ass there on monday.\",\n",
    "    \"Pegany company released the Zonda years back; I love that ride though it's not as fast as the Aventador and F16.\",\n",
    "    \"Mr Ramson was dismissed from Apple last week thursday. I wish him a better job; yes, he can get a job better than the one he had at Apple elsewhere.\",\n",
    "    \"My top sports rides are: the Aventador, McLaren GT, and the Ferarri series. Though they are not as fast as the speed devil; I still love em because they are road-able.\",\n",
    "    \"The present Tesla CEO bought the new pixel just two months ago. It's so cool that he's patronizing Google and ain't acting up. I think he's matured.\",\n",
    "    \"Bughati Chiron is faster than the Pegany Zonda by a wide range in speed but still sucks when compared with the speed devil, yeah? Yeah!\",\n",
    "]"
   ]
  },
  {
   "cell_type": "code",
   "execution_count": 2,
   "id": "ce4fbadf",
   "metadata": {
    "scrolled": true
   },
   "outputs": [
    {
     "name": "stdout",
     "output_type": "stream",
     "text": [
      "{'apple': 10, 'announces': 9, 'the': 116, 'iphone': 58, '14': 0, 'pro': 94, 'max': 70, 'yesterday': 142, 'getting': 47, 'mine': 73, 'tomorrow': 125, 'hope': 56, 'you': 143, 'get': 46, 'yours': 144, 'too': 126, 'to': 124, 'flex': 42, 'with': 138, 'me': 72, 'lol': 67, 'mr': 78, 'endee': 37, 'bought': 21, 'vintage': 130, 'tesla': 113, 'from': 45, 'pastor': 89, 'arman': 12, 'he': 53, 'is': 59, 'flexing': 43, 'his': 55, 'ride': 98, 'in': 57, 'square': 109, 'as': 13, 'we': 132, 'speak': 106, 'think': 120, 'that': 115, 'so': 105, 'good': 49, 'for': 44, 'him': 54, 'google': 50, 'just': 62, 'announced': 8, 'their': 117, 'new': 80, 'pixel': 92, 'minutes': 74, 'ago': 4, 'my': 79, 'brother': 22, 'already': 6, 'obsessed': 83, 'about': 2, 'it': 60, 'gonna': 48, 'one': 87, 'of': 84, 'em': 36, 'ones': 88, 'bughati': 23, 'showing': 104, 'off': 85, 'latest': 65, 'model': 75, 'aventador': 16, 'and': 7, 'on': 86, 'monday': 76, 'should': 103, 'be': 18, 'there': 118, 'at': 15, 'stage': 110, 'yeah': 139, 'don': 34, 'know': 63, 'what': 134, 'll': 66, 'thinking': 121, 'right': 100, 'now': 82, 'but': 24, 'ass': 14, 'pegany': 91, 'company': 29, 'released': 97, 'zonda': 145, 'years': 140, 'back': 17, 'love': 68, 'though': 122, 'not': 81, 'fast': 39, 'f16': 38, 'ramson': 95, 'was': 131, 'dismissed': 33, 'last': 64, 'week': 133, 'thursday': 123, 'wish': 137, 'better': 20, 'job': 61, 'yes': 141, 'can': 26, 'than': 114, 'had': 52, 'elsewhere': 35, 'top': 127, 'sports': 108, 'rides': 99, 'are': 11, 'mclaren': 71, 'gt': 51, 'ferarri': 41, 'series': 102, 'they': 119, 'speed': 107, 'devil': 32, 'still': 111, 'because': 19, 'road': 101, 'able': 1, 'present': 93, 'ceo': 27, 'two': 128, 'months': 77, 'cool': 31, 'patronizing': 90, 'ain': 5, 'acting': 3, 'up': 129, 'matured': 69, 'chiron': 28, 'faster': 40, 'by': 25, 'wide': 136, 'range': 96, 'sucks': 112, 'when': 135, 'compared': 30}\n"
     ]
    }
   ],
   "source": [
    "v = TfidfVectorizer()\n",
    "#v.fit(tex_t)\n",
    "#v.transform(tex_t)\n",
    "transformed_output = v.fit_transform(tex_t)\n",
    "print(v.vocabulary_)"
   ]
  },
  {
   "cell_type": "code",
   "execution_count": 3,
   "id": "a8080191",
   "metadata": {},
   "outputs": [
    {
     "data": {
      "text/plain": [
       "['__class__',\n",
       " '__delattr__',\n",
       " '__dict__',\n",
       " '__dir__',\n",
       " '__doc__',\n",
       " '__eq__',\n",
       " '__format__',\n",
       " '__ge__',\n",
       " '__getattribute__',\n",
       " '__getstate__',\n",
       " '__gt__',\n",
       " '__hash__',\n",
       " '__init__',\n",
       " '__init_subclass__',\n",
       " '__le__',\n",
       " '__lt__',\n",
       " '__module__',\n",
       " '__ne__',\n",
       " '__new__',\n",
       " '__reduce__',\n",
       " '__reduce_ex__',\n",
       " '__repr__',\n",
       " '__setattr__',\n",
       " '__setstate__',\n",
       " '__sizeof__',\n",
       " '__str__',\n",
       " '__subclasshook__',\n",
       " '__weakref__',\n",
       " '_char_ngrams',\n",
       " '_char_wb_ngrams',\n",
       " '_check_feature_names',\n",
       " '_check_n_features',\n",
       " '_check_params',\n",
       " '_check_stop_words_consistency',\n",
       " '_check_vocabulary',\n",
       " '_count_vocab',\n",
       " '_get_param_names',\n",
       " '_get_tags',\n",
       " '_limit_features',\n",
       " '_more_tags',\n",
       " '_repr_html_',\n",
       " '_repr_html_inner',\n",
       " '_repr_mimebundle_',\n",
       " '_sort_features',\n",
       " '_stop_words_id',\n",
       " '_tfidf',\n",
       " '_validate_data',\n",
       " '_validate_params',\n",
       " '_validate_vocabulary',\n",
       " '_warn_for_unused_params',\n",
       " '_white_spaces',\n",
       " '_word_ngrams',\n",
       " 'analyzer',\n",
       " 'binary',\n",
       " 'build_analyzer',\n",
       " 'build_preprocessor',\n",
       " 'build_tokenizer',\n",
       " 'decode',\n",
       " 'decode_error',\n",
       " 'dtype',\n",
       " 'encoding',\n",
       " 'fit',\n",
       " 'fit_transform',\n",
       " 'fixed_vocabulary_',\n",
       " 'get_feature_names',\n",
       " 'get_feature_names_out',\n",
       " 'get_params',\n",
       " 'get_stop_words',\n",
       " 'idf_',\n",
       " 'input',\n",
       " 'inverse_transform',\n",
       " 'lowercase',\n",
       " 'max_df',\n",
       " 'max_features',\n",
       " 'min_df',\n",
       " 'ngram_range',\n",
       " 'norm',\n",
       " 'preprocessor',\n",
       " 'set_params',\n",
       " 'smooth_idf',\n",
       " 'stop_words',\n",
       " 'stop_words_',\n",
       " 'strip_accents',\n",
       " 'sublinear_tf',\n",
       " 'token_pattern',\n",
       " 'tokenizer',\n",
       " 'transform',\n",
       " 'use_idf',\n",
       " 'vocabulary',\n",
       " 'vocabulary_']"
      ]
     },
     "execution_count": 3,
     "metadata": {},
     "output_type": "execute_result"
    }
   ],
   "source": [
    "dir(v)"
   ]
  },
  {
   "cell_type": "code",
   "execution_count": 4,
   "id": "7c72daed",
   "metadata": {},
   "outputs": [
    {
     "name": "stdout",
     "output_type": "stream",
     "text": [
      "14 2.6094379124341005\n",
      "able 2.6094379124341005\n",
      "about 2.203972804325936\n",
      "acting 2.6094379124341005\n",
      "ago 2.203972804325936\n",
      "ain 2.6094379124341005\n",
      "already 2.6094379124341005\n",
      "and 1.6931471805599454\n",
      "announced 2.6094379124341005\n",
      "announces 2.6094379124341005\n",
      "apple 2.203972804325936\n",
      "are 2.6094379124341005\n",
      "arman 2.6094379124341005\n",
      "as 1.916290731874155\n",
      "ass 2.6094379124341005\n",
      "at 2.203972804325936\n",
      "aventador 1.916290731874155\n",
      "back 2.6094379124341005\n",
      "be 2.6094379124341005\n",
      "because 2.6094379124341005\n",
      "better 2.6094379124341005\n",
      "bought 2.203972804325936\n",
      "brother 2.6094379124341005\n",
      "bughati 2.203972804325936\n",
      "but 2.203972804325936\n",
      "by 2.6094379124341005\n",
      "can 2.6094379124341005\n",
      "ceo 2.6094379124341005\n",
      "chiron 2.6094379124341005\n",
      "company 2.6094379124341005\n",
      "compared 2.6094379124341005\n",
      "cool 2.6094379124341005\n",
      "devil 2.203972804325936\n",
      "dismissed 2.6094379124341005\n",
      "don 2.6094379124341005\n",
      "elsewhere 2.6094379124341005\n",
      "em 2.203972804325936\n",
      "endee 2.6094379124341005\n",
      "f16 2.6094379124341005\n",
      "fast 2.203972804325936\n",
      "faster 2.6094379124341005\n",
      "ferarri 2.6094379124341005\n",
      "flex 2.6094379124341005\n",
      "flexing 2.6094379124341005\n",
      "for 2.6094379124341005\n",
      "from 2.203972804325936\n",
      "get 1.916290731874155\n",
      "getting 2.203972804325936\n",
      "gonna 2.6094379124341005\n",
      "good 2.6094379124341005\n",
      "google 2.203972804325936\n",
      "gt 2.6094379124341005\n",
      "had 2.6094379124341005\n",
      "he 1.6931471805599454\n",
      "him 2.203972804325936\n",
      "his 2.6094379124341005\n",
      "hope 2.6094379124341005\n",
      "in 2.203972804325936\n",
      "iphone 2.6094379124341005\n",
      "is 1.916290731874155\n",
      "it 1.916290731874155\n",
      "job 2.6094379124341005\n",
      "just 2.203972804325936\n",
      "know 2.6094379124341005\n",
      "last 2.6094379124341005\n",
      "latest 2.6094379124341005\n",
      "ll 2.6094379124341005\n",
      "lol 2.6094379124341005\n",
      "love 2.203972804325936\n",
      "matured 2.6094379124341005\n",
      "max 2.6094379124341005\n",
      "mclaren 2.6094379124341005\n",
      "me 2.6094379124341005\n",
      "mine 2.6094379124341005\n",
      "minutes 2.6094379124341005\n",
      "model 2.6094379124341005\n",
      "monday 2.6094379124341005\n",
      "months 2.6094379124341005\n",
      "mr 2.203972804325936\n",
      "my 1.916290731874155\n",
      "new 2.203972804325936\n",
      "not 2.203972804325936\n",
      "now 2.6094379124341005\n",
      "obsessed 2.6094379124341005\n",
      "of 2.6094379124341005\n",
      "off 2.6094379124341005\n",
      "on 2.6094379124341005\n",
      "one 2.203972804325936\n",
      "ones 2.6094379124341005\n",
      "pastor 2.6094379124341005\n",
      "patronizing 2.6094379124341005\n",
      "pegany 2.203972804325936\n",
      "pixel 2.203972804325936\n",
      "present 2.6094379124341005\n",
      "pro 2.6094379124341005\n",
      "ramson 2.6094379124341005\n",
      "range 2.6094379124341005\n",
      "released 2.6094379124341005\n",
      "ride 2.203972804325936\n",
      "rides 2.6094379124341005\n",
      "right 2.6094379124341005\n",
      "road 2.6094379124341005\n",
      "series 2.6094379124341005\n",
      "should 2.6094379124341005\n",
      "showing 2.6094379124341005\n",
      "so 2.203972804325936\n",
      "speak 2.6094379124341005\n",
      "speed 2.203972804325936\n",
      "sports 2.6094379124341005\n",
      "square 2.6094379124341005\n",
      "stage 2.6094379124341005\n",
      "still 2.203972804325936\n",
      "sucks 2.6094379124341005\n",
      "tesla 2.203972804325936\n",
      "than 2.203972804325936\n",
      "that 1.6931471805599454\n",
      "the 1.1053605156578263\n",
      "their 2.6094379124341005\n",
      "there 2.6094379124341005\n",
      "they 2.6094379124341005\n",
      "think 1.916290731874155\n",
      "thinking 2.6094379124341005\n",
      "though 2.203972804325936\n",
      "thursday 2.6094379124341005\n",
      "to 2.6094379124341005\n",
      "tomorrow 2.203972804325936\n",
      "too 2.6094379124341005\n",
      "top 2.6094379124341005\n",
      "two 2.6094379124341005\n",
      "up 2.6094379124341005\n",
      "vintage 2.6094379124341005\n",
      "was 2.6094379124341005\n",
      "we 2.203972804325936\n",
      "week 2.6094379124341005\n",
      "what 2.6094379124341005\n",
      "when 2.6094379124341005\n",
      "wide 2.6094379124341005\n",
      "wish 2.6094379124341005\n",
      "with 2.203972804325936\n",
      "yeah 2.203972804325936\n",
      "years 2.6094379124341005\n",
      "yes 2.6094379124341005\n",
      "yesterday 2.203972804325936\n",
      "you 2.6094379124341005\n",
      "yours 2.6094379124341005\n",
      "zonda 2.203972804325936\n"
     ]
    }
   ],
   "source": [
    "all_featured_names = v.get_feature_names_out()\n",
    "\n",
    "for word in all_featured_names:\n",
    "    indx=v.vocabulary_.get(word)\n",
    "    print(f\"{word} {v.idf_[indx]}\")"
   ]
  },
  {
   "cell_type": "code",
   "execution_count": 5,
   "id": "ee851c29",
   "metadata": {
    "scrolled": true
   },
   "outputs": [
    {
     "data": {
      "text/plain": [
       "[\"Apple announces the iphone 14 pro max yesterday! I'm getting mine tomorrow! I hope you get yours too to flex with me. lol.\",\n",
       " \"Mr Endee bought a vintage Tesla from Pastor Arman yesterday; he is flexing his ride in the square as we speak.  I think that's so good for him.\",\n",
       " \"Google just announced their new pixel 6 just 5 minutes ago. My brother's already obsessed about it. I think he's gonna get one of em new ones tomorrow.\"]"
      ]
     },
     "execution_count": 5,
     "metadata": {},
     "output_type": "execute_result"
    }
   ],
   "source": [
    "tex_t[:3]"
   ]
  },
  {
   "cell_type": "code",
   "execution_count": 6,
   "id": "1c992118",
   "metadata": {},
   "outputs": [
    {
     "data": {
      "text/plain": [
       "[\"Apple announces the iphone 14 pro max yesterday! I'm getting mine tomorrow! I hope you get yours too to flex with me. lol.\",\n",
       " \"Mr Endee bought a vintage Tesla from Pastor Arman yesterday; he is flexing his ride in the square as we speak.  I think that's so good for him.\",\n",
       " \"Google just announced their new pixel 6 just 5 minutes ago. My brother's already obsessed about it. I think he's gonna get one of em new ones tomorrow.\",\n",
       " \"Bughati is showing off the latest model, the Aventador, and that's on monday, we should be there at the stage yeah? I don't know what y'll thinking about right now but I'm getting my ass there on monday.\",\n",
       " \"Pegany company released the Zonda years back; I love that ride though it's not as fast as the Aventador and F16.\",\n",
       " 'Mr Ramson was dismissed from Apple last week thursday. I wish him a better job; yes, he can get a job better than the one he had at Apple elsewhere.',\n",
       " 'My top sports rides are: the Aventador, McLaren GT, and the Ferarri series. Though they are not as fast as the speed devil; I still love em because they are road-able.',\n",
       " \"The present Tesla CEO bought the new pixel just two months ago. It's so cool that he's patronizing Google and ain't acting up. I think he's matured.\",\n",
       " 'Bughati Chiron is faster than the Pegany Zonda by a wide range in speed but still sucks when compared with the speed devil, yeah? Yeah!']"
      ]
     },
     "execution_count": 6,
     "metadata": {},
     "output_type": "execute_result"
    }
   ],
   "source": [
    "tex_t"
   ]
  },
  {
   "cell_type": "code",
   "execution_count": 7,
   "id": "b41a5270",
   "metadata": {},
   "outputs": [
    {
     "data": {
      "text/plain": [
       "array([[0.23385421, 0.        , 0.        , ..., 0.23385421, 0.23385421,\n",
       "        0.        ],\n",
       "       [0.        , 0.        , 0.        , ..., 0.        , 0.        ,\n",
       "        0.        ],\n",
       "       [0.        , 0.        , 0.17894226, ..., 0.        , 0.        ,\n",
       "        0.        ],\n",
       "       ...,\n",
       "       [0.        , 0.1715522 , 0.        , ..., 0.        , 0.        ,\n",
       "        0.        ],\n",
       "       [0.        , 0.        , 0.        , ..., 0.        , 0.        ,\n",
       "        0.        ],\n",
       "       [0.        , 0.        , 0.        , ..., 0.        , 0.        ,\n",
       "        0.18264606]])"
      ]
     },
     "execution_count": 7,
     "metadata": {},
     "output_type": "execute_result"
    }
   ],
   "source": [
    "transformed_output.toarray()"
   ]
  },
  {
   "cell_type": "code",
   "execution_count": 8,
   "id": "bca8b333",
   "metadata": {},
   "outputs": [
    {
     "data": {
      "text/plain": [
       "array([[0.23385421, 0.        , 0.        , 0.        , 0.        ,\n",
       "        0.        , 0.        , 0.        , 0.        , 0.23385421,\n",
       "        0.19751699, 0.        , 0.        , 0.        , 0.        ,\n",
       "        0.        , 0.        , 0.        , 0.        , 0.        ,\n",
       "        0.        , 0.        , 0.        , 0.        , 0.        ,\n",
       "        0.        , 0.        , 0.        , 0.        , 0.        ,\n",
       "        0.        , 0.        , 0.        , 0.        , 0.        ,\n",
       "        0.        , 0.        , 0.        , 0.        , 0.        ,\n",
       "        0.        , 0.        , 0.23385421, 0.        , 0.        ,\n",
       "        0.        , 0.17173532, 0.19751699, 0.        , 0.        ,\n",
       "        0.        , 0.        , 0.        , 0.        , 0.        ,\n",
       "        0.        , 0.23385421, 0.        , 0.23385421, 0.        ,\n",
       "        0.        , 0.        , 0.        , 0.        , 0.        ,\n",
       "        0.        , 0.        , 0.23385421, 0.        , 0.        ,\n",
       "        0.23385421, 0.        , 0.23385421, 0.23385421, 0.        ,\n",
       "        0.        , 0.        , 0.        , 0.        , 0.        ,\n",
       "        0.        , 0.        , 0.        , 0.        , 0.        ,\n",
       "        0.        , 0.        , 0.        , 0.        , 0.        ,\n",
       "        0.        , 0.        , 0.        , 0.        , 0.23385421,\n",
       "        0.        , 0.        , 0.        , 0.        , 0.        ,\n",
       "        0.        , 0.        , 0.        , 0.        , 0.        ,\n",
       "        0.        , 0.        , 0.        , 0.        , 0.        ,\n",
       "        0.        , 0.        , 0.        , 0.        , 0.        ,\n",
       "        0.        , 0.09906088, 0.        , 0.        , 0.        ,\n",
       "        0.        , 0.        , 0.        , 0.        , 0.23385421,\n",
       "        0.19751699, 0.23385421, 0.        , 0.        , 0.        ,\n",
       "        0.        , 0.        , 0.        , 0.        , 0.        ,\n",
       "        0.        , 0.        , 0.        , 0.19751699, 0.        ,\n",
       "        0.        , 0.        , 0.19751699, 0.23385421, 0.23385421,\n",
       "        0.        ],\n",
       "       [0.        , 0.        , 0.        , 0.        , 0.        ,\n",
       "        0.        , 0.        , 0.        , 0.        , 0.        ,\n",
       "        0.        , 0.        , 0.224886  , 0.16514934, 0.        ,\n",
       "        0.        , 0.        , 0.        , 0.        , 0.        ,\n",
       "        0.        , 0.18994229, 0.        , 0.        , 0.        ,\n",
       "        0.        , 0.        , 0.        , 0.        , 0.        ,\n",
       "        0.        , 0.        , 0.        , 0.        , 0.        ,\n",
       "        0.        , 0.        , 0.224886  , 0.        , 0.        ,\n",
       "        0.        , 0.        , 0.        , 0.224886  , 0.224886  ,\n",
       "        0.18994229, 0.        , 0.        , 0.        , 0.224886  ,\n",
       "        0.        , 0.        , 0.        , 0.14591843, 0.18994229,\n",
       "        0.224886  , 0.        , 0.18994229, 0.        , 0.16514934,\n",
       "        0.        , 0.        , 0.        , 0.        , 0.        ,\n",
       "        0.        , 0.        , 0.        , 0.        , 0.        ,\n",
       "        0.        , 0.        , 0.        , 0.        , 0.        ,\n",
       "        0.        , 0.        , 0.        , 0.18994229, 0.        ,\n",
       "        0.        , 0.        , 0.        , 0.        , 0.        ,\n",
       "        0.        , 0.        , 0.        , 0.        , 0.224886  ,\n",
       "        0.        , 0.        , 0.        , 0.        , 0.        ,\n",
       "        0.        , 0.        , 0.        , 0.18994229, 0.        ,\n",
       "        0.        , 0.        , 0.        , 0.        , 0.        ,\n",
       "        0.18994229, 0.224886  , 0.        , 0.        , 0.224886  ,\n",
       "        0.        , 0.        , 0.        , 0.18994229, 0.        ,\n",
       "        0.14591843, 0.09526193, 0.        , 0.        , 0.        ,\n",
       "        0.16514934, 0.        , 0.        , 0.        , 0.        ,\n",
       "        0.        , 0.        , 0.        , 0.        , 0.        ,\n",
       "        0.224886  , 0.        , 0.18994229, 0.        , 0.        ,\n",
       "        0.        , 0.        , 0.        , 0.        , 0.        ,\n",
       "        0.        , 0.        , 0.18994229, 0.        , 0.        ,\n",
       "        0.        ]])"
      ]
     },
     "execution_count": 8,
     "metadata": {},
     "output_type": "execute_result"
    }
   ],
   "source": [
    "transformed_output.toarray()[:2]"
   ]
  },
  {
   "cell_type": "code",
   "execution_count": 9,
   "id": "5f85da4c",
   "metadata": {},
   "outputs": [],
   "source": [
    "import spacy\n",
    "\n",
    "nlp = spacy.load(\"en_core_web_sm\")\n",
    "\n",
    "processed_doc = []\n",
    "\n",
    "def preprocess(text):\n",
    "    doc = nlp(text)\n",
    "    \n",
    "    for token in doc:\n",
    "        if token.is_punct or token.is_stop:\n",
    "            continue\n",
    "        processed_doc.append(token.lemma_)\n",
    "    return \" \".join(processed_doc)"
   ]
  },
  {
   "cell_type": "code",
   "execution_count": 10,
   "id": "a88b48b2",
   "metadata": {},
   "outputs": [
    {
     "data": {
      "text/plain": [
       "['Apple announce iphone 14 pro max yesterday get tomorrow hope flex lol',\n",
       " 'Apple announce iphone 14 pro max yesterday get tomorrow hope flex lol Mr Endee buy vintage Tesla Pastor Arman yesterday flex ride square speak   think good',\n",
       " 'Apple announce iphone 14 pro max yesterday get tomorrow hope flex lol Mr Endee buy vintage Tesla Pastor Arman yesterday flex ride square speak   think good Google announce new pixel 6 5 minute ago brother obsess think go to em new one tomorrow',\n",
       " \"Apple announce iphone 14 pro max yesterday get tomorrow hope flex lol Mr Endee buy vintage Tesla Pastor Arman yesterday flex ride square speak   think good Google announce new pixel 6 5 minute ago brother obsess think go to em new one tomorrow Bughati show late model Aventador monday stage yeah know y'll think right get ass monday\",\n",
       " \"Apple announce iphone 14 pro max yesterday get tomorrow hope flex lol Mr Endee buy vintage Tesla Pastor Arman yesterday flex ride square speak   think good Google announce new pixel 6 5 minute ago brother obsess think go to em new one tomorrow Bughati show late model Aventador monday stage yeah know y'll think right get ass monday pegany company release Zonda year love ride fast Aventador F16\",\n",
       " \"Apple announce iphone 14 pro max yesterday get tomorrow hope flex lol Mr Endee buy vintage Tesla Pastor Arman yesterday flex ride square speak   think good Google announce new pixel 6 5 minute ago brother obsess think go to em new one tomorrow Bughati show late model Aventador monday stage yeah know y'll think right get ass monday pegany company release Zonda year love ride fast Aventador F16 Mr Ramson dismiss Apple week thursday wish well job yes job well Apple\",\n",
       " \"Apple announce iphone 14 pro max yesterday get tomorrow hope flex lol Mr Endee buy vintage Tesla Pastor Arman yesterday flex ride square speak   think good Google announce new pixel 6 5 minute ago brother obsess think go to em new one tomorrow Bughati show late model Aventador monday stage yeah know y'll think right get ass monday pegany company release Zonda year love ride fast Aventador F16 Mr Ramson dismiss Apple week thursday wish well job yes job well Apple sport ride Aventador McLaren GT Ferarri series fast speed devil love em road able\",\n",
       " \"Apple announce iphone 14 pro max yesterday get tomorrow hope flex lol Mr Endee buy vintage Tesla Pastor Arman yesterday flex ride square speak   think good Google announce new pixel 6 5 minute ago brother obsess think go to em new one tomorrow Bughati show late model Aventador monday stage yeah know y'll think right get ass monday pegany company release Zonda year love ride fast Aventador F16 Mr Ramson dismiss Apple week thursday wish well job yes job well Apple sport ride Aventador McLaren GT Ferarri series fast speed devil love em road able present Tesla CEO buy new pixel month ago cool patronize Google be act think mature\",\n",
       " \"Apple announce iphone 14 pro max yesterday get tomorrow hope flex lol Mr Endee buy vintage Tesla Pastor Arman yesterday flex ride square speak   think good Google announce new pixel 6 5 minute ago brother obsess think go to em new one tomorrow Bughati show late model Aventador monday stage yeah know y'll think right get ass monday pegany company release Zonda year love ride fast Aventador F16 Mr Ramson dismiss Apple week thursday wish well job yes job well Apple sport ride Aventador McLaren GT Ferarri series fast speed devil love em road able present Tesla CEO buy new pixel month ago cool patronize Google be act think mature Bughati Chiron fast Pegany Zonda wide range speed suck compare speed devil yeah yeah\"]"
      ]
     },
     "execution_count": 10,
     "metadata": {},
     "output_type": "execute_result"
    }
   ],
   "source": [
    "preprocessed_tex_t = [preprocess(text) for text in tex_t]\n",
    "preprocessed_tex_t\n",
    "#processing the doc \"tex_t\" isn't necessary here in Tfidf but we can still train a model in Tfidf using the processed tex_t here just to check em out\n"
   ]
  },
  {
   "cell_type": "code",
   "execution_count": 11,
   "id": "7853f3f5",
   "metadata": {},
   "outputs": [
    {
     "name": "stdout",
     "output_type": "stream",
     "text": [
      "{'apple': 5, 'announce': 4, 'iphone': 32, '14': 0, 'pro': 55, 'max': 40, 'yesterday': 83, 'get': 26, 'tomorrow': 74, 'hope': 31, 'flex': 25, 'lol': 37, 'mr': 46, 'endee': 21, 'buy': 12, 'vintage': 75, 'tesla': 70, 'pastor': 50, 'arman': 6, 'ride': 59, 'square': 67, 'speak': 64, 'think': 71, 'good': 28, 'google': 29, 'new': 47, 'pixel': 53, 'minute': 42, 'ago': 3, 'brother': 10, 'obsess': 48, 'go': 27, 'to': 73, 'em': 20, 'one': 49, 'bughati': 11, 'show': 63, 'late': 35, 'model': 43, 'aventador': 8, 'monday': 44, 'stage': 68, 'yeah': 80, 'know': 34, 'll': 36, 'right': 60, 'ass': 7, 'pegany': 52, 'company': 15, 'release': 58, 'zonda': 84, 'year': 81, 'love': 38, 'fast': 23, 'f16': 22, 'ramson': 56, 'dismiss': 19, 'week': 76, 'thursday': 72, 'wish': 79, 'well': 77, 'job': 33, 'yes': 82, 'sport': 66, 'mclaren': 41, 'gt': 30, 'ferarri': 24, 'series': 62, 'speed': 65, 'devil': 18, 'road': 61, 'able': 1, 'present': 54, 'ceo': 13, 'month': 45, 'cool': 17, 'patronize': 51, 'be': 9, 'act': 2, 'mature': 39, 'chiron': 14, 'wide': 78, 'range': 57, 'suck': 69, 'compare': 16}\n"
     ]
    }
   ],
   "source": [
    "unprocessed_transformed_output = v.fit_transform(preprocessed_tex_t)\n",
    "print(v.vocabulary_)"
   ]
  },
  {
   "cell_type": "code",
   "execution_count": 12,
   "id": "88237310",
   "metadata": {},
   "outputs": [
    {
     "data": {
      "text/plain": [
       "array(['14', 'able', 'act', 'ago', 'announce', 'apple', 'arman', 'ass',\n",
       "       'aventador', 'be', 'brother', 'bughati', 'buy', 'ceo', 'chiron',\n",
       "       'company', 'compare', 'cool', 'devil', 'dismiss', 'em', 'endee',\n",
       "       'f16', 'fast', 'ferarri', 'flex', 'get', 'go', 'good', 'google',\n",
       "       'gt', 'hope', 'iphone', 'job', 'know', 'late', 'll', 'lol', 'love',\n",
       "       'mature', 'max', 'mclaren', 'minute', 'model', 'monday', 'month',\n",
       "       'mr', 'new', 'obsess', 'one', 'pastor', 'patronize', 'pegany',\n",
       "       'pixel', 'present', 'pro', 'ramson', 'range', 'release', 'ride',\n",
       "       'right', 'road', 'series', 'show', 'speak', 'speed', 'sport',\n",
       "       'square', 'stage', 'suck', 'tesla', 'think', 'thursday', 'to',\n",
       "       'tomorrow', 'vintage', 'week', 'well', 'wide', 'wish', 'yeah',\n",
       "       'year', 'yes', 'yesterday', 'zonda'], dtype=object)"
      ]
     },
     "execution_count": 12,
     "metadata": {},
     "output_type": "execute_result"
    }
   ],
   "source": [
    "all_featured_names = v.get_feature_names_out()\n",
    "all_featured_names"
   ]
  },
  {
   "cell_type": "code",
   "execution_count": 13,
   "id": "eb03088b",
   "metadata": {},
   "outputs": [
    {
     "data": {
      "text/html": [
       "<div>\n",
       "<style scoped>\n",
       "    .dataframe tbody tr th:only-of-type {\n",
       "        vertical-align: middle;\n",
       "    }\n",
       "\n",
       "    .dataframe tbody tr th {\n",
       "        vertical-align: top;\n",
       "    }\n",
       "\n",
       "    .dataframe thead th {\n",
       "        text-align: right;\n",
       "    }\n",
       "</style>\n",
       "<table border=\"1\" class=\"dataframe\">\n",
       "  <thead>\n",
       "    <tr style=\"text-align: right;\">\n",
       "      <th></th>\n",
       "      <th>review</th>\n",
       "      <th>sentiment</th>\n",
       "    </tr>\n",
       "  </thead>\n",
       "  <tbody>\n",
       "    <tr>\n",
       "      <th>0</th>\n",
       "      <td>One of the other reviewers has mentioned that ...</td>\n",
       "      <td>positive</td>\n",
       "    </tr>\n",
       "    <tr>\n",
       "      <th>1</th>\n",
       "      <td>A wonderful little production. &lt;br /&gt;&lt;br /&gt;The...</td>\n",
       "      <td>positive</td>\n",
       "    </tr>\n",
       "    <tr>\n",
       "      <th>2</th>\n",
       "      <td>I thought this was a wonderful way to spend ti...</td>\n",
       "      <td>positive</td>\n",
       "    </tr>\n",
       "    <tr>\n",
       "      <th>3</th>\n",
       "      <td>Basically there's a family where a little boy ...</td>\n",
       "      <td>negative</td>\n",
       "    </tr>\n",
       "    <tr>\n",
       "      <th>4</th>\n",
       "      <td>Petter Mattei's \"Love in the Time of Money\" is...</td>\n",
       "      <td>positive</td>\n",
       "    </tr>\n",
       "  </tbody>\n",
       "</table>\n",
       "</div>"
      ],
      "text/plain": [
       "                                              review sentiment\n",
       "0  One of the other reviewers has mentioned that ...  positive\n",
       "1  A wonderful little production. <br /><br />The...  positive\n",
       "2  I thought this was a wonderful way to spend ti...  positive\n",
       "3  Basically there's a family where a little boy ...  negative\n",
       "4  Petter Mattei's \"Love in the Time of Money\" is...  positive"
      ]
     },
     "execution_count": 13,
     "metadata": {},
     "output_type": "execute_result"
    }
   ],
   "source": [
    "import pandas as pd\n",
    "\n",
    "df = pd.read_csv(\"C:/Users/admin/Desktop/archive/Book2.csv\")\n",
    "\n",
    "df.head()"
   ]
  },
  {
   "cell_type": "code",
   "execution_count": 14,
   "id": "4b62a92e",
   "metadata": {},
   "outputs": [
    {
     "data": {
      "text/plain": [
       "0      1\n",
       "1      1\n",
       "2      1\n",
       "3      0\n",
       "4      1\n",
       "      ..\n",
       "434    0\n",
       "435    1\n",
       "436    1\n",
       "437    1\n",
       "438    1\n",
       "Name: bin_rep, Length: 439, dtype: int64"
      ]
     },
     "execution_count": 14,
     "metadata": {},
     "output_type": "execute_result"
    }
   ],
   "source": [
    "df['bin_rep'] = df.sentiment.map({\n",
    "    \"positive\":1,\n",
    "    \"negative\":0,\n",
    "})\n",
    "\n",
    "df.bin_rep"
   ]
  },
  {
   "cell_type": "code",
   "execution_count": 15,
   "id": "e8d70441",
   "metadata": {},
   "outputs": [
    {
     "data": {
      "text/html": [
       "<div>\n",
       "<style scoped>\n",
       "    .dataframe tbody tr th:only-of-type {\n",
       "        vertical-align: middle;\n",
       "    }\n",
       "\n",
       "    .dataframe tbody tr th {\n",
       "        vertical-align: top;\n",
       "    }\n",
       "\n",
       "    .dataframe thead th {\n",
       "        text-align: right;\n",
       "    }\n",
       "</style>\n",
       "<table border=\"1\" class=\"dataframe\">\n",
       "  <thead>\n",
       "    <tr style=\"text-align: right;\">\n",
       "      <th></th>\n",
       "      <th>review</th>\n",
       "      <th>sentiment</th>\n",
       "      <th>bin_rep</th>\n",
       "    </tr>\n",
       "  </thead>\n",
       "  <tbody>\n",
       "    <tr>\n",
       "      <th>0</th>\n",
       "      <td>One of the other reviewers has mentioned that ...</td>\n",
       "      <td>positive</td>\n",
       "      <td>1</td>\n",
       "    </tr>\n",
       "    <tr>\n",
       "      <th>1</th>\n",
       "      <td>A wonderful little production. &lt;br /&gt;&lt;br /&gt;The...</td>\n",
       "      <td>positive</td>\n",
       "      <td>1</td>\n",
       "    </tr>\n",
       "    <tr>\n",
       "      <th>2</th>\n",
       "      <td>I thought this was a wonderful way to spend ti...</td>\n",
       "      <td>positive</td>\n",
       "      <td>1</td>\n",
       "    </tr>\n",
       "    <tr>\n",
       "      <th>3</th>\n",
       "      <td>Basically there's a family where a little boy ...</td>\n",
       "      <td>negative</td>\n",
       "      <td>0</td>\n",
       "    </tr>\n",
       "    <tr>\n",
       "      <th>4</th>\n",
       "      <td>Petter Mattei's \"Love in the Time of Money\" is...</td>\n",
       "      <td>positive</td>\n",
       "      <td>1</td>\n",
       "    </tr>\n",
       "  </tbody>\n",
       "</table>\n",
       "</div>"
      ],
      "text/plain": [
       "                                              review sentiment  bin_rep\n",
       "0  One of the other reviewers has mentioned that ...  positive        1\n",
       "1  A wonderful little production. <br /><br />The...  positive        1\n",
       "2  I thought this was a wonderful way to spend ti...  positive        1\n",
       "3  Basically there's a family where a little boy ...  negative        0\n",
       "4  Petter Mattei's \"Love in the Time of Money\" is...  positive        1"
      ]
     },
     "execution_count": 15,
     "metadata": {},
     "output_type": "execute_result"
    }
   ],
   "source": [
    "df.head()"
   ]
  },
  {
   "cell_type": "code",
   "execution_count": 16,
   "id": "976f79f7",
   "metadata": {},
   "outputs": [
    {
     "data": {
      "text/plain": [
       "0      Apple announce iphone 14 pro max yesterday get...\n",
       "1      Apple announce iphone 14 pro max yesterday get...\n",
       "2      Apple announce iphone 14 pro max yesterday get...\n",
       "3      Apple announce iphone 14 pro max yesterday get...\n",
       "4      Apple announce iphone 14 pro max yesterday get...\n",
       "                             ...                        \n",
       "434    Apple announce iphone 14 pro max yesterday get...\n",
       "435    Apple announce iphone 14 pro max yesterday get...\n",
       "436    Apple announce iphone 14 pro max yesterday get...\n",
       "437    Apple announce iphone 14 pro max yesterday get...\n",
       "438    Apple announce iphone 14 pro max yesterday get...\n",
       "Name: processed_review, Length: 439, dtype: object"
      ]
     },
     "execution_count": 16,
     "metadata": {},
     "output_type": "execute_result"
    }
   ],
   "source": [
    "df[\"processed_review\"]=df[\"review\"].apply(preprocess)\n",
    "df.processed_review"
   ]
  },
  {
   "cell_type": "code",
   "execution_count": 17,
   "id": "3bbecca3",
   "metadata": {
    "scrolled": true
   },
   "outputs": [
    {
     "data": {
      "text/html": [
       "<div>\n",
       "<style scoped>\n",
       "    .dataframe tbody tr th:only-of-type {\n",
       "        vertical-align: middle;\n",
       "    }\n",
       "\n",
       "    .dataframe tbody tr th {\n",
       "        vertical-align: top;\n",
       "    }\n",
       "\n",
       "    .dataframe thead th {\n",
       "        text-align: right;\n",
       "    }\n",
       "</style>\n",
       "<table border=\"1\" class=\"dataframe\">\n",
       "  <thead>\n",
       "    <tr style=\"text-align: right;\">\n",
       "      <th></th>\n",
       "      <th>review</th>\n",
       "      <th>sentiment</th>\n",
       "      <th>bin_rep</th>\n",
       "      <th>processed_review</th>\n",
       "    </tr>\n",
       "  </thead>\n",
       "  <tbody>\n",
       "    <tr>\n",
       "      <th>0</th>\n",
       "      <td>One of the other reviewers has mentioned that ...</td>\n",
       "      <td>positive</td>\n",
       "      <td>1</td>\n",
       "      <td>Apple announce iphone 14 pro max yesterday get...</td>\n",
       "    </tr>\n",
       "    <tr>\n",
       "      <th>1</th>\n",
       "      <td>A wonderful little production. &lt;br /&gt;&lt;br /&gt;The...</td>\n",
       "      <td>positive</td>\n",
       "      <td>1</td>\n",
       "      <td>Apple announce iphone 14 pro max yesterday get...</td>\n",
       "    </tr>\n",
       "    <tr>\n",
       "      <th>2</th>\n",
       "      <td>I thought this was a wonderful way to spend ti...</td>\n",
       "      <td>positive</td>\n",
       "      <td>1</td>\n",
       "      <td>Apple announce iphone 14 pro max yesterday get...</td>\n",
       "    </tr>\n",
       "    <tr>\n",
       "      <th>3</th>\n",
       "      <td>Basically there's a family where a little boy ...</td>\n",
       "      <td>negative</td>\n",
       "      <td>0</td>\n",
       "      <td>Apple announce iphone 14 pro max yesterday get...</td>\n",
       "    </tr>\n",
       "    <tr>\n",
       "      <th>4</th>\n",
       "      <td>Petter Mattei's \"Love in the Time of Money\" is...</td>\n",
       "      <td>positive</td>\n",
       "      <td>1</td>\n",
       "      <td>Apple announce iphone 14 pro max yesterday get...</td>\n",
       "    </tr>\n",
       "  </tbody>\n",
       "</table>\n",
       "</div>"
      ],
      "text/plain": [
       "                                              review sentiment  bin_rep  \\\n",
       "0  One of the other reviewers has mentioned that ...  positive        1   \n",
       "1  A wonderful little production. <br /><br />The...  positive        1   \n",
       "2  I thought this was a wonderful way to spend ti...  positive        1   \n",
       "3  Basically there's a family where a little boy ...  negative        0   \n",
       "4  Petter Mattei's \"Love in the Time of Money\" is...  positive        1   \n",
       "\n",
       "                                    processed_review  \n",
       "0  Apple announce iphone 14 pro max yesterday get...  \n",
       "1  Apple announce iphone 14 pro max yesterday get...  \n",
       "2  Apple announce iphone 14 pro max yesterday get...  \n",
       "3  Apple announce iphone 14 pro max yesterday get...  \n",
       "4  Apple announce iphone 14 pro max yesterday get...  "
      ]
     },
     "execution_count": 17,
     "metadata": {},
     "output_type": "execute_result"
    }
   ],
   "source": [
    "df.head()"
   ]
  },
  {
   "cell_type": "code",
   "execution_count": 27,
   "id": "c5e6c02c",
   "metadata": {},
   "outputs": [],
   "source": [
    "from sklearn.model_selection import train_test_split\n",
    "\n",
    "x_train, x_test, y_train, y_test = train_test_split(\n",
    "    df.processed_review,\n",
    "    df.bin_rep,\n",
    "    test_size=0.2,\n",
    "    random_state=2022,\n",
    "    stratify=df.bin_rep,\n",
    ")"
   ]
  },
  {
   "cell_type": "code",
   "execution_count": 28,
   "id": "2246c0f2",
   "metadata": {
    "scrolled": true
   },
   "outputs": [
    {
     "name": "stdout",
     "output_type": "stream",
     "text": [
      "              precision    recall  f1-score   support\n",
      "\n",
      "           0       1.00      0.52      0.69        88\n",
      "           1       0.00      0.00      0.00         0\n",
      "\n",
      "    accuracy                           0.52        88\n",
      "   macro avg       0.50      0.26      0.34        88\n",
      "weighted avg       1.00      0.52      0.69        88\n",
      "\n"
     ]
    },
    {
     "name": "stderr",
     "output_type": "stream",
     "text": [
      "C:\\Users\\admin\\anaconda3\\lib\\site-packages\\sklearn\\metrics\\_classification.py:1318: UndefinedMetricWarning: Recall and F-score are ill-defined and being set to 0.0 in labels with no true samples. Use `zero_division` parameter to control this behavior.\n",
      "  _warn_prf(average, modifier, msg_start, len(result))\n",
      "C:\\Users\\admin\\anaconda3\\lib\\site-packages\\sklearn\\metrics\\_classification.py:1318: UndefinedMetricWarning: Recall and F-score are ill-defined and being set to 0.0 in labels with no true samples. Use `zero_division` parameter to control this behavior.\n",
      "  _warn_prf(average, modifier, msg_start, len(result))\n",
      "C:\\Users\\admin\\anaconda3\\lib\\site-packages\\sklearn\\metrics\\_classification.py:1318: UndefinedMetricWarning: Recall and F-score are ill-defined and being set to 0.0 in labels with no true samples. Use `zero_division` parameter to control this behavior.\n",
      "  _warn_prf(average, modifier, msg_start, len(result))\n"
     ]
    }
   ],
   "source": [
    "from sklearn.naive_bayes import MultinomialNB\n",
    "from sklearn.pipeline import Pipeline\n",
    "from sklearn.metrics import classification_report\n",
    "\n",
    "clf = Pipeline([\n",
    "    (\"Tfidf_VECTORIZER\", TfidfVectorizer()),\n",
    "    (\"train_model\", MultinomialNB())\n",
    "])\n",
    "\n",
    "clf.fit(x_train, y_train)\n",
    "\n",
    "y_pred = clf.predict(x_test)\n",
    "\n",
    "print(classification_report(y_pred, y_test))"
   ]
  },
  {
   "cell_type": "code",
   "execution_count": 29,
   "id": "99622950",
   "metadata": {},
   "outputs": [
    {
     "name": "stdout",
     "output_type": "stream",
     "text": [
      "              precision    recall  f1-score   support\n",
      "\n",
      "           0       0.70      0.50      0.58        64\n",
      "           1       0.24      0.42      0.30        24\n",
      "\n",
      "    accuracy                           0.48        88\n",
      "   macro avg       0.47      0.46      0.44        88\n",
      "weighted avg       0.57      0.48      0.51        88\n",
      "\n"
     ]
    }
   ],
   "source": [
    "from sklearn.neighbors import KNeighborsClassifier\n",
    "\n",
    "clf = Pipeline([\n",
    "    (\"Tfidf_VECTORIZER\", TfidfVectorizer()),\n",
    "    (\"train_model\", KNeighborsClassifier())\n",
    "])\n",
    "\n",
    "clf.fit(x_train, y_train)\n",
    "\n",
    "y_pred = clf.predict(x_test)\n",
    "\n",
    "print(classification_report(y_pred, y_test))"
   ]
  },
  {
   "cell_type": "code",
   "execution_count": 30,
   "id": "53f3e2b1",
   "metadata": {},
   "outputs": [
    {
     "name": "stdout",
     "output_type": "stream",
     "text": [
      "              precision    recall  f1-score   support\n",
      "\n",
      "           0       0.67      0.54      0.60        57\n",
      "           1       0.38      0.52      0.44        31\n",
      "\n",
      "    accuracy                           0.53        88\n",
      "   macro avg       0.53      0.53      0.52        88\n",
      "weighted avg       0.57      0.53      0.54        88\n",
      "\n"
     ]
    }
   ],
   "source": [
    "from sklearn.ensemble import RandomForestClassifier\n",
    "\n",
    "clf = Pipeline([\n",
    "    (\"Tfidf_VECTORIZER\", TfidfVectorizer()),\n",
    "    (\"train_model\", RandomForestClassifier())\n",
    "])\n",
    "\n",
    "clf.fit(x_train, y_train)\n",
    "\n",
    "y_pred = clf.predict(x_test)\n",
    "\n",
    "print(classification_report(y_pred, y_test))"
   ]
  },
  {
   "cell_type": "code",
   "execution_count": null,
   "id": "5d2e1c77",
   "metadata": {},
   "outputs": [],
   "source": []
  }
 ],
 "metadata": {
  "kernelspec": {
   "display_name": "Python 3 (ipykernel)",
   "language": "python",
   "name": "python3"
  },
  "language_info": {
   "codemirror_mode": {
    "name": "ipython",
    "version": 3
   },
   "file_extension": ".py",
   "mimetype": "text/x-python",
   "name": "python",
   "nbconvert_exporter": "python",
   "pygments_lexer": "ipython3",
   "version": "3.9.12"
  }
 },
 "nbformat": 4,
 "nbformat_minor": 5
}
